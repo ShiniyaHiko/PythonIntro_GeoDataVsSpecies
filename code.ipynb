{
 "cells": [
  {
   "cell_type": "code",
   "execution_count": 1,
   "id": "b392a98c-980e-49f5-9e4b-2956f199f141",
   "metadata": {
    "tags": []
   },
   "outputs": [],
   "source": [
    "import pandas as pd"
   ]
  },
  {
   "cell_type": "code",
   "execution_count": 2,
   "id": "04717578-7514-42ff-ad5a-9e327b4b8e60",
   "metadata": {
    "tags": []
   },
   "outputs": [],
   "source": [
    "df = pd.read_csv(\"data/global_data_5k.txt\")"
   ]
  },
  {
   "cell_type": "code",
   "execution_count": 22,
   "id": "ec577a65-212a-40e3-b1a2-370289b53366",
   "metadata": {
    "tags": []
   },
   "outputs": [],
   "source": [
    "fixed_column_names = [\"Elev\",\"Locrel\",\"slope\",\"P\",'T','NDVIavg','NDVImax','y','x','ksn','tetrapods','Amphibians','Mammals','KG','Geo','LC','SR']\n",
    "df.columns = fixed_column_names\n",
    "df = df.replace(-9999,0)"
   ]
  },
  {
   "cell_type": "code",
   "execution_count": 23,
   "id": "d923141e-2585-4614-bd57-b4041c8172b0",
   "metadata": {
    "tags": []
   },
   "outputs": [
    {
     "name": "stdout",
     "output_type": "stream",
     "text": [
      "      Elev  Locrel  slope    P    T  NDVIavg  NDVImax     y      x  ksn  \\\n",
      "0       94     195     80  690  234        3       29  2030 -12125  102   \n",
      "1      179     221     65  665  236       88      209  2078 -11705  187   \n",
      "2      159     240     11  731  236       95      220  2079 -11704  114   \n",
      "3      238     290     63  692  232       95      218  2078 -11704  175   \n",
      "4      202     322     52  645  234       93      216  2077 -11704  255   \n",
      "...    ...     ...    ...  ...  ...      ...      ...   ...    ...  ...   \n",
      "4994   424     152     41  402  219      123      199  2564 -11267   85   \n",
      "4995   427     171     29  407  217      127      203  2563 -11267   96   \n",
      "4996   503     230     52  414  213      132      210  2562 -11267   70   \n",
      "4997   580     186     57  407  210      133      215  2561 -11267   77   \n",
      "4998   513     256     63  372  212      127      209  2560 -11267  114   \n",
      "\n",
      "      tetrapods  Amphibians  Mammals  KG  Geo  LC  SR  \n",
      "0            22           0        0   0   16   6   0  \n",
      "1            36           0        0   2   16   5   0  \n",
      "2            36           0        0   2   16   6   0  \n",
      "3            36           0        0   2   16   2   0  \n",
      "4            37           0        0   2   16  11   0  \n",
      "...         ...         ...      ...  ..  ...  ..  ..  \n",
      "4994        230           3       40   2   10   2  19  \n",
      "4995        229           3       40   2   10   2  19  \n",
      "4996        228           3       40   2   10   2  19  \n",
      "4997        227           3       40   2   10   2  19  \n",
      "4998        226           3       40   2   10   2  19  \n",
      "\n",
      "[4999 rows x 17 columns]\n"
     ]
    }
   ],
   "source": [
    "print(df)"
   ]
  },
  {
   "cell_type": "code",
   "execution_count": 24,
   "id": "9d5c1858-8bdc-4f5b-a3e9-5e392c5a0faa",
   "metadata": {
    "tags": []
   },
   "outputs": [],
   "source": [
    "from scipy.stats import pearsonr"
   ]
  },
  {
   "cell_type": "code",
   "execution_count": 32,
   "id": "7028f54b-6b4c-42e9-a0e9-8dd7bbd99e37",
   "metadata": {
    "tags": []
   },
   "outputs": [
    {
     "name": "stdout",
     "output_type": "stream",
     "text": [
      "Pearson correlation between Elev and tetrapods: -0.27\n",
      "Pearson correlation between Locrel and tetrapods: -0.55\n",
      "Pearson correlation between slope and tetrapods: -0.48\n",
      "Pearson correlation between P and tetrapods: -0.06\n",
      "Pearson correlation between T and tetrapods: 0.27\n",
      "Pearson correlation between NDVIavg and tetrapods: 0.09\n",
      "Pearson correlation between NDVImax and tetrapods: 0.01\n",
      "Pearson correlation between y and tetrapods: -0.04\n",
      "Pearson correlation between x and tetrapods: 0.50\n",
      "Pearson correlation between ksn and tetrapods: -0.42\n",
      "Pearson correlation between KG and tetrapods: -0.10\n",
      "Pearson correlation between Geo and tetrapods: -0.30\n",
      "Pearson correlation between LC and tetrapods: 0.09\n",
      "Pearson correlation between SR and tetrapods: 0.00\n",
      "Pearson correlation between Elev and Amphibians: -0.16\n",
      "Pearson correlation between Locrel and Amphibians: -0.29\n",
      "Pearson correlation between slope and Amphibians: -0.25\n",
      "Pearson correlation between P and Amphibians: 0.52\n",
      "Pearson correlation between T and Amphibians: 0.62\n",
      "Pearson correlation between NDVIavg and Amphibians: 0.72\n",
      "Pearson correlation between NDVImax and Amphibians: 0.65\n",
      "Pearson correlation between y and Amphibians: -0.66\n",
      "Pearson correlation between x and Amphibians: 0.41\n",
      "Pearson correlation between ksn and Amphibians: -0.16\n",
      "Pearson correlation between KG and Amphibians: -0.27\n",
      "Pearson correlation between Geo and Amphibians: 0.05\n",
      "Pearson correlation between LC and Amphibians: -0.18\n",
      "Pearson correlation between SR and Amphibians: 0.48\n",
      "Pearson correlation between Elev and Mammals: -0.22\n",
      "Pearson correlation between Locrel and Mammals: -0.62\n",
      "Pearson correlation between slope and Mammals: -0.53\n",
      "Pearson correlation between P and Mammals: -0.08\n",
      "Pearson correlation between T and Mammals: 0.34\n",
      "Pearson correlation between NDVIavg and Mammals: 0.05\n",
      "Pearson correlation between NDVImax and Mammals: -0.02\n",
      "Pearson correlation between y and Mammals: -0.03\n",
      "Pearson correlation between x and Mammals: 0.54\n",
      "Pearson correlation between ksn and Mammals: -0.48\n",
      "Pearson correlation between KG and Mammals: 0.02\n",
      "Pearson correlation between Geo and Mammals: -0.27\n",
      "Pearson correlation between LC and Mammals: 0.04\n",
      "Pearson correlation between SR and Mammals: -0.11\n"
     ]
    }
   ],
   "source": [
    "geo_factors = [\"Elev\",\"Locrel\",\"slope\",\"P\",'T','NDVIavg','NDVImax','y','x','ksn','KG','Geo','LC','SR']\n",
    "species_richness = ['tetrapods','Amphibians','Mammals']\n",
    "\n",
    "for species in species_richness:\n",
    "    for factor in geo_factors:\n",
    "        corr, p_value = pearsonr(df[factor], df[species])\n",
    "        print(f'Pearson correlation between {factor} and {species}: {corr:.2f}')"
   ]
  },
  {
   "cell_type": "code",
   "execution_count": 27,
   "id": "ca9890f9-0f07-461a-9a48-a6c411a97b20",
   "metadata": {
    "tags": []
   },
   "outputs": [],
   "source": [
    "import seaborn as sns\n",
    "import matplotlib.pyplot as plt"
   ]
  },
  {
   "cell_type": "code",
   "execution_count": 54,
   "id": "cb18e24e-22b2-4ccf-9b6e-80d9ddb02c6a",
   "metadata": {
    "tags": []
   },
   "outputs": [
    {
     "data": {
      "image/png": "[encoded data removed]",
      "text/plain": [
       "<Figure size 500x500 with 1 Axes>"
      ]
     },
     "metadata": {},
     "output_type": "display_data"
    }
   ],
   "source": [
    "x_column = \"NDVIavg\"\n",
    "y_column = \"Amphibians\"\n",
    "plot_df = df[[x_column, y_column]]\n",
    "ax = sns.lmplot(x=x_column, y=y_column, data=plot_df, scatter_kws={'s': 3})\n",
    "plt.yticks(range(0, 4, 1))\n",
    "plt.show()"
   ]
  }
 ],
 "metadata": {
  "kernelspec": {
   "display_name": "Python 3 (ipykernel)",
   "language": "python",
   "name": "python3"
  },
  "language_info": {
   "codemirror_mode": {
    "name": "ipython",
    "version": 3
   },
   "file_extension": ".py",
   "mimetype": "text/x-python",
   "name": "python",
   "nbconvert_exporter": "python",
   "pygments_lexer": "ipython3",
   "version": "3.11.2"
  }
 },
 "nbformat": 4,
 "nbformat_minor": 5
}
